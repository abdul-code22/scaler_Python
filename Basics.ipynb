{
 "cells": [
  {
   "cell_type": "code",
   "execution_count": 25,
   "id": "3e622855-cd6c-414c-8ef1-6a9f80e88f18",
   "metadata": {
    "tags": []
   },
   "outputs": [
    {
     "name": "stdout",
     "output_type": "stream",
     "text": [
      "Hello\n"
     ]
    }
   ],
   "source": [
    "print(\"Hello\")"
   ]
  },
  {
   "cell_type": "code",
   "execution_count": 26,
   "id": "2715224b-6514-41a7-88fa-14dfb1b5b67e",
   "metadata": {
    "tags": []
   },
   "outputs": [
    {
     "name": "stdout",
     "output_type": "stream",
     "text": [
      "5\n"
     ]
    }
   ],
   "source": [
    "a = 5\n",
    "print(a)"
   ]
  },
  {
   "cell_type": "code",
   "execution_count": 27,
   "id": "c071fd39-10a0-419d-b4f0-f6a871d860bb",
   "metadata": {
    "tags": []
   },
   "outputs": [
    {
     "name": "stdout",
     "output_type": "stream",
     "text": [
      "45\n"
     ]
    }
   ],
   "source": [
    "variable_1 = 45\n",
    "print(variable_1)"
   ]
  },
  {
   "cell_type": "markdown",
   "id": "0d85862d",
   "metadata": {},
   "source": [
    "id gives the address of the variable"
   ]
  },
  {
   "cell_type": "code",
   "execution_count": 28,
   "id": "84a43217",
   "metadata": {},
   "outputs": [
    {
     "data": {
      "text/plain": [
       "140703813702568"
      ]
     },
     "execution_count": 28,
     "metadata": {},
     "output_type": "execute_result"
    }
   ],
   "source": [
    "id(a)"
   ]
  },
  {
   "cell_type": "code",
   "execution_count": 29,
   "id": "537374ac",
   "metadata": {},
   "outputs": [
    {
     "name": "stdout",
     "output_type": "stream",
     "text": [
      "140703813704200\n"
     ]
    }
   ],
   "source": [
    "a=56\n",
    "print(id(a))"
   ]
  },
  {
   "cell_type": "code",
   "execution_count": 37,
   "id": "80a9e0a1",
   "metadata": {},
   "outputs": [],
   "source": [
    "name = input()\n",
    "#by default python takes input type as a string"
   ]
  },
  {
   "cell_type": "code",
   "execution_count": 38,
   "id": "80077e53",
   "metadata": {},
   "outputs": [
    {
     "name": "stdout",
     "output_type": "stream",
     "text": [
      "abdul\n",
      "<class 'str'>\n"
     ]
    }
   ],
   "source": [
    "print (name)\n",
    "print (type(name))"
   ]
  },
  {
   "cell_type": "code",
   "execution_count": 44,
   "id": "5725008a",
   "metadata": {},
   "outputs": [
    {
     "name": "stdout",
     "output_type": "stream",
     "text": [
      "5\n",
      "<class 'str'>\n",
      "<class 'int'>\n"
     ]
    }
   ],
   "source": [
    "#type casting\n",
    "x = input()\n",
    "print(x)\n",
    "print(type(x))\n",
    "x = int(x)\n",
    "print(type(x))"
   ]
  },
  {
   "cell_type": "code",
   "execution_count": 46,
   "id": "95f7b855",
   "metadata": {},
   "outputs": [
    {
     "name": "stdout",
     "output_type": "stream",
     "text": [
      "Abdul Fazal 2020 310 1093.5\n",
      "Abdul,Fazal,2020,310,1093.5\n"
     ]
    }
   ],
   "source": [
    "#print?\n",
    "print( \"Abdul\" , \"Fazal\", 2020, 310, 1093.5)\n",
    "print( \"Abdul\" , \"Fazal\", 2020, 310, 1093.5, sep=\",\")"
   ]
  }
 ],
 "metadata": {
  "kernelspec": {
   "display_name": "Python 3 (ipykernel)",
   "language": "python",
   "name": "python3"
  },
  "language_info": {
   "codemirror_mode": {
    "name": "ipython",
    "version": 3
   },
   "file_extension": ".py",
   "mimetype": "text/x-python",
   "name": "python",
   "nbconvert_exporter": "python",
   "pygments_lexer": "ipython3",
   "version": "3.11.4"
  }
 },
 "nbformat": 4,
 "nbformat_minor": 5
}
