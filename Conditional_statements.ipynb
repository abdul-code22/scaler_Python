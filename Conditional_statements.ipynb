{
 "cells": [
  {
   "cell_type": "code",
   "execution_count": 8,
   "metadata": {},
   "outputs": [
    {
     "name": "stdout",
     "output_type": "stream",
     "text": [
      "Age is 18\n",
      "legal age\n"
     ]
    }
   ],
   "source": [
    "age = int(input())\n",
    "\n",
    "if age >= 18:\n",
    "    print (\"Age is\", age)\n",
    "    print (\"legal age\")\n",
    "else:\n",
    "    print (\"Age is \", age)\n",
    "    print (\"Minor age\")\n",
    "    "
   ]
  },
  {
   "cell_type": "code",
   "execution_count": 11,
   "metadata": {},
   "outputs": [
    {
     "name": "stdout",
     "output_type": "stream",
     "text": [
      "negative -1\n"
     ]
    }
   ],
   "source": [
    "num = int(input())\n",
    "if num > 0:\n",
    "    print (\"positive\", num)\n",
    "elif num < 0:\n",
    "    print (\"negative\", num)\n",
    "else:\n",
    "    print (\"Zero\", num)"
   ]
  },
  {
   "cell_type": "code",
   "execution_count": 16,
   "metadata": {},
   "outputs": [
    {
     "ename": "SyntaxError",
     "evalue": "invalid syntax (2296266376.py, line 3)",
     "output_type": "error",
     "traceback": [
      "\u001b[1;36m  Cell \u001b[1;32mIn[16], line 3\u001b[1;36m\u001b[0m\n\u001b[1;33m    if((A % 4 == 0):\u001b[0m\n\u001b[1;37m                   ^\u001b[0m\n\u001b[1;31mSyntaxError\u001b[0m\u001b[1;31m:\u001b[0m invalid syntax\n"
     ]
    }
   ],
   "source": [
    "def CheckLeap(A):  \n",
    "  # Checking if the given year is leap year  \n",
    "    if(A % 4 == 0):   \n",
    "            return 1  \n",
    "    # Else it is not a leap year  \n",
    "    else:  \n",
    "            return 0 \n",
    "# Taking an input year from user  \n",
    "Year = int(input(\"Enter the number: \"))  \n",
    "# Printing result  \n",
    "CheckLeap(A)  "
   ]
  }
 ],
 "metadata": {
  "kernelspec": {
   "display_name": "base",
   "language": "python",
   "name": "python3"
  },
  "language_info": {
   "codemirror_mode": {
    "name": "ipython",
    "version": 3
   },
   "file_extension": ".py",
   "mimetype": "text/x-python",
   "name": "python",
   "nbconvert_exporter": "python",
   "pygments_lexer": "ipython3",
   "version": "3.11.4"
  },
  "orig_nbformat": 4
 },
 "nbformat": 4,
 "nbformat_minor": 2
}
